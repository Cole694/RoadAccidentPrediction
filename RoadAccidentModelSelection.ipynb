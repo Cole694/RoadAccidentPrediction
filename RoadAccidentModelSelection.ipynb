{
 "cells": [
  {
   "cell_type": "markdown",
   "metadata": {},
   "source": [
    "# Model selection and creation\n",
    "This project consists of 5 sections. These are collectively aimed at creating a machine learning model that can produce accurate predictions and analysis on the data it is fed.\n",
    "\n",
    "Section 1 - Data checking/validation\n",
    "\n",
    "Section 2 - Visualisation of data and relations\n",
    "\n",
    "Section 3 - Testing and determination of best suited ML model\n",
    "\n",
    "Section 4 - Model implementation and tuning\n",
    "\n",
    "Section 5 - Pickling the model"
   ]
  },
  {
   "cell_type": "markdown",
   "metadata": {},
   "source": [
    "## Section 1 - Data checking/validation\n",
    "In this section the data created in the previous project(A) is imported and information regarding the tables are displayed to make sure no values are missing and the tables are clean."
   ]
  },
  {
   "cell_type": "code",
   "execution_count": 3,
   "metadata": {},
   "outputs": [],
   "source": [
    "# imports needed for data manipulation/cleaning\n",
    "import numpy as np\n",
    "import pandas as pd\n",
    "import matplotlib.pyplot as plt\n",
    "import seaborn as sns\n",
    "plt.style.use('ggplot')\n",
    "%matplotlib inline\n",
    "\n",
    "# import from sci-kit learn\n",
    "from sklearn import svm\n",
    "from sklearn.svm import LinearSVC\n",
    "from sklearn.model_selection import train_test_split\n",
    "from sklearn.model_selection import GridSearchCV\n",
    "from sklearn.linear_model import LogisticRegression\n",
    "from sklearn.feature_selection import SelectFromModel\n",
    "from sklearn.metrics import classification_report\n",
    "from sklearn.metrics import confusion_matrix\n",
    "from sklearn.metrics import accuracy_score\n",
    "from sklearn.metrics import roc_curve, auc\n",
    "\n",
    "# Import KNeighborsClassifier from sklearn.neighbors\n",
    "from sklearn.neighbors import KNeighborsClassifier\n",
    "\n",
    "# Import DecisionTreeClassifier from sklearn.tree\n",
    "from sklearn.tree import DecisionTreeClassifier\n",
    "\n",
    "# Import RandomForestClassifier\n",
    "from sklearn.ensemble import RandomForestClassifier\n",
    "# import pickle module for model dumping\n",
    "import pickle"
   ]
  },
  {
   "cell_type": "code",
   "execution_count": 108,
   "metadata": {},
   "outputs": [
    {
     "data": {
      "text/html": [
       "<div>\n",
       "<style scoped>\n",
       "    .dataframe tbody tr th:only-of-type {\n",
       "        vertical-align: middle;\n",
       "    }\n",
       "\n",
       "    .dataframe tbody tr th {\n",
       "        vertical-align: top;\n",
       "    }\n",
       "\n",
       "    .dataframe thead th {\n",
       "        text-align: right;\n",
       "    }\n",
       "</style>\n",
       "<table border=\"1\" class=\"dataframe\">\n",
       "  <thead>\n",
       "    <tr style=\"text-align: right;\">\n",
       "      <th></th>\n",
       "      <th>Age</th>\n",
       "      <th>Gender</th>\n",
       "      <th>Alcohol consumed</th>\n",
       "      <th>Fatigued</th>\n",
       "      <th>Time of Day</th>\n",
       "      <th>Raining</th>\n",
       "    </tr>\n",
       "  </thead>\n",
       "  <tbody>\n",
       "    <tr>\n",
       "      <th>0</th>\n",
       "      <td>50</td>\n",
       "      <td>1</td>\n",
       "      <td>0</td>\n",
       "      <td>1</td>\n",
       "      <td>0</td>\n",
       "      <td>0</td>\n",
       "    </tr>\n",
       "    <tr>\n",
       "      <th>1</th>\n",
       "      <td>55</td>\n",
       "      <td>0</td>\n",
       "      <td>0</td>\n",
       "      <td>1</td>\n",
       "      <td>0</td>\n",
       "      <td>0</td>\n",
       "    </tr>\n",
       "    <tr>\n",
       "      <th>2</th>\n",
       "      <td>52</td>\n",
       "      <td>0</td>\n",
       "      <td>0</td>\n",
       "      <td>0</td>\n",
       "      <td>0</td>\n",
       "      <td>0</td>\n",
       "    </tr>\n",
       "    <tr>\n",
       "      <th>3</th>\n",
       "      <td>69</td>\n",
       "      <td>1</td>\n",
       "      <td>1</td>\n",
       "      <td>1</td>\n",
       "      <td>1</td>\n",
       "      <td>0</td>\n",
       "    </tr>\n",
       "    <tr>\n",
       "      <th>4</th>\n",
       "      <td>57</td>\n",
       "      <td>0</td>\n",
       "      <td>0</td>\n",
       "      <td>0</td>\n",
       "      <td>1</td>\n",
       "      <td>0</td>\n",
       "    </tr>\n",
       "    <tr>\n",
       "      <th>5</th>\n",
       "      <td>49</td>\n",
       "      <td>0</td>\n",
       "      <td>1</td>\n",
       "      <td>0</td>\n",
       "      <td>1</td>\n",
       "      <td>0</td>\n",
       "    </tr>\n",
       "    <tr>\n",
       "      <th>6</th>\n",
       "      <td>41</td>\n",
       "      <td>1</td>\n",
       "      <td>0</td>\n",
       "      <td>0</td>\n",
       "      <td>0</td>\n",
       "      <td>0</td>\n",
       "    </tr>\n",
       "    <tr>\n",
       "      <th>7</th>\n",
       "      <td>24</td>\n",
       "      <td>0</td>\n",
       "      <td>1</td>\n",
       "      <td>0</td>\n",
       "      <td>1</td>\n",
       "      <td>0</td>\n",
       "    </tr>\n",
       "    <tr>\n",
       "      <th>8</th>\n",
       "      <td>46</td>\n",
       "      <td>0</td>\n",
       "      <td>0</td>\n",
       "      <td>0</td>\n",
       "      <td>0</td>\n",
       "      <td>0</td>\n",
       "    </tr>\n",
       "    <tr>\n",
       "      <th>9</th>\n",
       "      <td>66</td>\n",
       "      <td>0</td>\n",
       "      <td>0</td>\n",
       "      <td>0</td>\n",
       "      <td>0</td>\n",
       "      <td>1</td>\n",
       "    </tr>\n",
       "  </tbody>\n",
       "</table>\n",
       "</div>"
      ],
      "text/plain": [
       "   Age  Gender  Alcohol consumed  Fatigued  Time of Day  Raining\n",
       "0   50       1                 0         1            0        0\n",
       "1   55       0                 0         1            0        0\n",
       "2   52       0                 0         0            0        0\n",
       "3   69       1                 1         1            1        0\n",
       "4   57       0                 0         0            1        0\n",
       "5   49       0                 1         0            1        0\n",
       "6   41       1                 0         0            0        0\n",
       "7   24       0                 1         0            1        0\n",
       "8   46       0                 0         0            0        0\n",
       "9   66       0                 0         0            0        1"
      ]
     },
     "execution_count": 108,
     "metadata": {},
     "output_type": "execute_result"
    }
   ],
   "source": [
    "# read the dataset that is to be used for the x values\n",
    "df1 = pd.read_csv(\"BinaryDrivingDatabase1.csv\")# x vals\n",
    "# display the first 10 rows of data\n",
    "df1.head(10)"
   ]
  },
  {
   "cell_type": "code",
   "execution_count": 109,
   "metadata": {},
   "outputs": [
    {
     "name": "stdout",
     "output_type": "stream",
     "text": [
      "<class 'pandas.core.frame.DataFrame'>\n",
      "RangeIndex: 100 entries, 0 to 99\n",
      "Data columns (total 6 columns):\n",
      " #   Column            Non-Null Count  Dtype\n",
      "---  ------            --------------  -----\n",
      " 0   Age               100 non-null    int64\n",
      " 1   Gender            100 non-null    int64\n",
      " 2   Alcohol consumed  100 non-null    int64\n",
      " 3   Fatigued          100 non-null    int64\n",
      " 4   Time of Day       100 non-null    int64\n",
      " 5   Raining           100 non-null    int64\n",
      "dtypes: int64(6)\n",
      "memory usage: 4.8 KB\n"
     ]
    }
   ],
   "source": [
    "# display info on table 1 to see if data is clean\n",
    "df1.info()"
   ]
  },
  {
   "cell_type": "code",
   "execution_count": 110,
   "metadata": {},
   "outputs": [
    {
     "data": {
      "text/html": [
       "<div>\n",
       "<style scoped>\n",
       "    .dataframe tbody tr th:only-of-type {\n",
       "        vertical-align: middle;\n",
       "    }\n",
       "\n",
       "    .dataframe tbody tr th {\n",
       "        vertical-align: top;\n",
       "    }\n",
       "\n",
       "    .dataframe thead th {\n",
       "        text-align: right;\n",
       "    }\n",
       "</style>\n",
       "<table border=\"1\" class=\"dataframe\">\n",
       "  <thead>\n",
       "    <tr style=\"text-align: right;\">\n",
       "      <th></th>\n",
       "      <th>0</th>\n",
       "    </tr>\n",
       "  </thead>\n",
       "  <tbody>\n",
       "    <tr>\n",
       "      <th>0</th>\n",
       "      <td>0</td>\n",
       "    </tr>\n",
       "    <tr>\n",
       "      <th>1</th>\n",
       "      <td>0</td>\n",
       "    </tr>\n",
       "    <tr>\n",
       "      <th>2</th>\n",
       "      <td>0</td>\n",
       "    </tr>\n",
       "    <tr>\n",
       "      <th>3</th>\n",
       "      <td>1</td>\n",
       "    </tr>\n",
       "    <tr>\n",
       "      <th>4</th>\n",
       "      <td>0</td>\n",
       "    </tr>\n",
       "    <tr>\n",
       "      <th>5</th>\n",
       "      <td>0</td>\n",
       "    </tr>\n",
       "    <tr>\n",
       "      <th>6</th>\n",
       "      <td>0</td>\n",
       "    </tr>\n",
       "    <tr>\n",
       "      <th>7</th>\n",
       "      <td>0</td>\n",
       "    </tr>\n",
       "    <tr>\n",
       "      <th>8</th>\n",
       "      <td>0</td>\n",
       "    </tr>\n",
       "    <tr>\n",
       "      <th>9</th>\n",
       "      <td>0</td>\n",
       "    </tr>\n",
       "  </tbody>\n",
       "</table>\n",
       "</div>"
      ],
      "text/plain": [
       "   0\n",
       "0  0\n",
       "1  0\n",
       "2  0\n",
       "3  1\n",
       "4  0\n",
       "5  0\n",
       "6  0\n",
       "7  0\n",
       "8  0\n",
       "9  0"
      ]
     },
     "execution_count": 110,
     "metadata": {},
     "output_type": "execute_result"
    }
   ],
   "source": [
    "# read the dataset to be used for the y values\n",
    "df2 = pd.read_csv(\"MachineLearningProj1ACrashTestData.csv\")# y vals\n",
    "# display the first 10 rows\n",
    "df2.head(10)"
   ]
  },
  {
   "cell_type": "code",
   "execution_count": 111,
   "metadata": {},
   "outputs": [
    {
     "name": "stdout",
     "output_type": "stream",
     "text": [
      "<class 'pandas.core.frame.DataFrame'>\n",
      "RangeIndex: 100 entries, 0 to 99\n",
      "Data columns (total 1 columns):\n",
      " #   Column  Non-Null Count  Dtype\n",
      "---  ------  --------------  -----\n",
      " 0   0       100 non-null    int64\n",
      "dtypes: int64(1)\n",
      "memory usage: 928.0 bytes\n"
     ]
    }
   ],
   "source": [
    "# display info on table df2 to see if data is clean\n",
    "df2.info()"
   ]
  },
  {
   "cell_type": "markdown",
   "metadata": {},
   "source": [
    "## Section 2 - Visualisation of data and relations\n",
    "This section focuses on the columns in the binary dataset representing the driving conditions. The columns and their \n",
    "True values are used to represent the relations between features in the dataset."
   ]
  },
  {
   "cell_type": "markdown",
   "metadata": {},
   "source": [
    "### Alcohol consumption and gender"
   ]
  },
  {
   "cell_type": "code",
   "execution_count": 112,
   "metadata": {},
   "outputs": [
    {
     "name": "stdout",
     "output_type": "stream",
     "text": [
      "    Age  Gender  Alcohol consumed  Fatigued  Time of Day  Raining\n",
      "3    69       1                 1         1            1        0\n",
      "14   41       1                 1         0            0        0\n",
      "20   22       1                 1         1            1        1\n",
      "21   63       1                 1         0            0        1\n",
      "23   19       1                 1         0            0        1\n",
      "25   58       1                 1         0            1        0\n",
      "30   51       1                 1         0            0        0\n",
      "31   39       1                 1         0            1        0\n",
      "34   37       1                 1         0            1        0\n",
      "36   59       1                 1         0            1        1\n",
      "39   65       1                 1         0            1        0\n",
      "41   44       1                 1         0            1        1\n",
      "42   23       1                 1         0            0        1\n",
      "49   64       1                 1         0            0        0\n",
      "52   19       1                 1         1            1        1\n",
      "53   19       1                 1         0            0        0\n",
      "61   51       1                 1         0            0        0\n",
      "62   52       1                 1         1            1        0\n",
      "64   58       1                 1         0            1        0\n",
      "65   20       1                 1         0            1        1\n",
      "70   47       1                 1         0            0        0\n",
      "71   72       1                 1         0            1        0\n",
      "92   55       1                 1         0            1        0\n",
      "96   40       1                 1         0            0        0\n",
      "Age                 24\n",
      "Gender              24\n",
      "Alcohol consumed    24\n",
      "Fatigued            24\n",
      "Time of Day         24\n",
      "Raining             24\n",
      "dtype: int64\n"
     ]
    }
   ],
   "source": [
    "# group the data so as to display the ammount of male drivers under the influence of alcohol\n",
    "a = df1.groupby(\"Alcohol consumed\")\n",
    "b = a.get_group(1).groupby(\"Gender\")\n",
    "print(b.get_group(1))\n",
    "print(b.get_group(1).count(0))"
   ]
  },
  {
   "cell_type": "code",
   "execution_count": 113,
   "metadata": {},
   "outputs": [
    {
     "name": "stdout",
     "output_type": "stream",
     "text": [
      "    Age  Gender  Alcohol consumed  Fatigued  Time of Day  Raining\n",
      "5    49       0                 1         0            1        0\n",
      "7    24       0                 1         0            1        0\n",
      "10   41       0                 1         0            1        0\n",
      "12   45       0                 1         1            1        0\n",
      "13   54       0                 1         0            0        1\n",
      "18   44       0                 1         0            0        0\n",
      "28   25       0                 1         1            0        1\n",
      "33   69       0                 1         0            0        0\n",
      "44   69       0                 1         0            1        1\n",
      "45   58       0                 1         0            0        1\n",
      "46   59       0                 1         0            0        1\n",
      "48   55       0                 1         0            0        1\n",
      "50   71       0                 1         0            0        0\n",
      "51   32       0                 1         0            1        1\n",
      "56   25       0                 1         0            1        0\n",
      "81   50       0                 1         0            0        0\n",
      "88   59       0                 1         0            0        1\n",
      "91   47       0                 1         1            1        1\n",
      "93   54       0                 1         0            1        1\n",
      "94   33       0                 1         0            1        0\n",
      "Age                 20\n",
      "Gender              20\n",
      "Alcohol consumed    20\n",
      "Fatigued            20\n",
      "Time of Day         20\n",
      "Raining             20\n",
      "dtype: int64\n"
     ]
    }
   ],
   "source": [
    "# group the data so as to display the ammount of female drivers under the influence of alcohol\n",
    "a = df1.groupby(\"Alcohol consumed\")\n",
    "b = a.get_group(1).groupby(\"Gender\")\n",
    "f = b.get_group(0)\n",
    "k = b.get_group(0).count(0)\n",
    "print(f)\n",
    "print(k)"
   ]
  },
  {
   "cell_type": "code",
   "execution_count": 114,
   "metadata": {},
   "outputs": [
    {
     "data": {
      "text/plain": [
       "<function matplotlib.pyplot.show(*args, **kw)>"
      ]
     },
     "execution_count": 114,
     "metadata": {},
     "output_type": "execute_result"
    },
    {
     "data": {
      "image/png": "[encoded data removed]",
      "text/plain": [
       "<Figure size 432x288 with 1 Axes>"
      ]
     },
     "metadata": {
      "needs_background": "light"
     },
     "output_type": "display_data"
    }
   ],
   "source": [
    "# DUI alcohol visualisation\n",
    "womenAlc = b.get_group(0).count(0).Gender\n",
    "menAlc = b.get_group(1).count(0).Gender\n",
    "womenAlc\n",
    "menAlc\n",
    "womenAlcplot = plt.bar(womenAlc, womenAlc, label=\"women\")\n",
    "menAlcPLot = plt.bar(menAlc, menAlc, label=\"men\")\n",
    "plt.title(\"DUI of men vs women\")\n",
    "plt.legend()\n",
    "plt.show"
   ]
  },
  {
   "cell_type": "markdown",
   "metadata": {},
   "source": [
    "### Fatigued and gender"
   ]
  },
  {
   "cell_type": "code",
   "execution_count": 115,
   "metadata": {},
   "outputs": [
    {
     "name": "stdout",
     "output_type": "stream",
     "text": [
      "    Age  Gender  Alcohol consumed  Fatigued  Time of Day  Raining\n",
      "0    50       1                 0         1            0        0\n",
      "3    69       1                 1         1            1        0\n",
      "20   22       1                 1         1            1        1\n",
      "52   19       1                 1         1            1        1\n",
      "62   52       1                 1         1            1        0\n",
      "Age                 5\n",
      "Gender              5\n",
      "Alcohol consumed    5\n",
      "Fatigued            5\n",
      "Time of Day         5\n",
      "Raining             5\n",
      "dtype: int64\n"
     ]
    }
   ],
   "source": [
    "# group the data so as to display the ammount of male drivers fatigued\n",
    "g = df1.groupby(\"Fatigued\")\n",
    "e = g.get_group(1).groupby(\"Gender\")\n",
    "print(e.get_group(1))\n",
    "print(e.get_group(1).count(0))"
   ]
  },
  {
   "cell_type": "code",
   "execution_count": 116,
   "metadata": {},
   "outputs": [
    {
     "name": "stdout",
     "output_type": "stream",
     "text": [
      "    Age  Gender  Alcohol consumed  Fatigued  Time of Day  Raining\n",
      "1    55       0                 0         1            0        0\n",
      "11   22       0                 0         1            0        0\n",
      "12   45       0                 1         1            1        0\n",
      "28   25       0                 1         1            0        1\n",
      "38   25       0                 0         1            0        1\n",
      "47   73       0                 0         1            0        0\n",
      "91   47       0                 1         1            1        1\n",
      "Age                 7\n",
      "Gender              7\n",
      "Alcohol consumed    7\n",
      "Fatigued            7\n",
      "Time of Day         7\n",
      "Raining             7\n",
      "dtype: int64\n"
     ]
    }
   ],
   "source": [
    "# group the data so as to display the ammount of female drivers fatigued\n",
    "g = df1.groupby(\"Fatigued\")\n",
    "e = g.get_group(1).groupby(\"Gender\")\n",
    "print(e.get_group(0))\n",
    "print(e.get_group(0).count(0))"
   ]
  },
  {
   "cell_type": "code",
   "execution_count": 117,
   "metadata": {},
   "outputs": [
    {
     "data": {
      "text/plain": [
       "<function matplotlib.pyplot.show(*args, **kw)>"
      ]
     },
     "execution_count": 117,
     "metadata": {},
     "output_type": "execute_result"
    },
    {
     "data": {
      "image/png": "[encoded data removed]",
      "text/plain": [
       "<Figure size 432x288 with 1 Axes>"
      ]
     },
     "metadata": {
      "needs_background": "light"
     },
     "output_type": "display_data"
    }
   ],
   "source": [
    "# Fatigued visualisation\n",
    "womenFat = e.get_group(0).count(0).Gender\n",
    "menFat = e.get_group(1).count(0).Gender\n",
    "womenFat\n",
    "menFat\n",
    "womenFatplot = plt.bar(womenFat, 7, label=\"women\")\n",
    "menFatPLot = plt.bar(menFat, 5, label=\"men\")\n",
    "plt.title(\"Ammount of fatigued male vs women drivers\")\n",
    "plt.legend()\n",
    "plt.show"
   ]
  },
  {
   "cell_type": "markdown",
   "metadata": {},
   "source": [
    "### Traveling at night and gender"
   ]
  },
  {
   "cell_type": "code",
   "execution_count": 118,
   "metadata": {},
   "outputs": [
    {
     "name": "stdout",
     "output_type": "stream",
     "text": [
      "    Age  Gender  Alcohol consumed  Fatigued  Time of Day  Raining\n",
      "3    69       1                 1         1            1        0\n",
      "15   39       1                 0         0            1        0\n",
      "20   22       1                 1         1            1        1\n",
      "22   55       1                 0         0            1        0\n",
      "25   58       1                 1         0            1        0\n",
      "27   40       1                 0         0            1        1\n",
      "31   39       1                 1         0            1        0\n",
      "32   46       1                 0         0            1        1\n",
      "34   37       1                 1         0            1        0\n",
      "36   59       1                 1         0            1        1\n",
      "39   65       1                 1         0            1        0\n",
      "41   44       1                 1         0            1        1\n",
      "52   19       1                 1         1            1        1\n",
      "54   23       1                 0         0            1        0\n",
      "57   28       1                 0         0            1        0\n",
      "62   52       1                 1         1            1        0\n",
      "64   58       1                 1         0            1        0\n",
      "65   20       1                 1         0            1        1\n",
      "68   26       1                 0         0            1        0\n",
      "71   72       1                 1         0            1        0\n",
      "75   39       1                 0         0            1        0\n",
      "77   33       1                 0         0            1        0\n",
      "78   49       1                 0         0            1        0\n",
      "80   49       1                 0         0            1        1\n",
      "82   25       1                 0         0            1        0\n",
      "87   46       1                 0         0            1        0\n",
      "92   55       1                 1         0            1        0\n",
      "95   27       1                 0         0            1        1\n",
      "97   32       1                 0         0            1        0\n",
      "99   67       1                 0         0            1        1\n",
      "Age                 30\n",
      "Gender              30\n",
      "Alcohol consumed    30\n",
      "Fatigued            30\n",
      "Time of Day         30\n",
      "Raining             30\n",
      "dtype: int64\n"
     ]
    }
   ],
   "source": [
    "# group the data so as to display the ammount of male drivers traveling at night\n",
    "c = df1.groupby(\"Time of Day\")\n",
    "d = c.get_group(1).groupby(\"Gender\")\n",
    "print(d.get_group(1))\n",
    "print(d.get_group(1).count(0))\n",
    "# balance check\n",
    "#print(c.get_group(1).count(0))"
   ]
  },
  {
   "cell_type": "code",
   "execution_count": 119,
   "metadata": {},
   "outputs": [
    {
     "name": "stdout",
     "output_type": "stream",
     "text": [
      "    Age  Gender  Alcohol consumed  Fatigued  Time of Day  Raining\n",
      "4    57       0                 0         0            1        0\n",
      "5    49       0                 1         0            1        0\n",
      "7    24       0                 1         0            1        0\n",
      "10   41       0                 1         0            1        0\n",
      "12   45       0                 1         1            1        0\n",
      "35   70       0                 0         0            1        0\n",
      "44   69       0                 1         0            1        1\n",
      "51   32       0                 1         0            1        1\n",
      "56   25       0                 1         0            1        0\n",
      "67   51       0                 0         0            1        0\n",
      "69   56       0                 0         0            1        1\n",
      "73   40       0                 0         0            1        0\n",
      "83   24       0                 0         0            1        0\n",
      "86   51       0                 0         0            1        0\n",
      "90   67       0                 0         0            1        0\n",
      "91   47       0                 1         1            1        1\n",
      "93   54       0                 1         0            1        1\n",
      "94   33       0                 1         0            1        0\n",
      "98   36       0                 0         0            1        1\n",
      "Age                 19\n",
      "Gender              19\n",
      "Alcohol consumed    19\n",
      "Fatigued            19\n",
      "Time of Day         19\n",
      "Raining             19\n",
      "dtype: int64\n"
     ]
    }
   ],
   "source": [
    "# group the data so as to display the ammount of female drivers treveling at night\n",
    "c = df1.groupby(\"Time of Day\")\n",
    "d = c.get_group(1).groupby(\"Gender\")\n",
    "print(d.get_group(0))\n",
    "print(d.get_group(0).count(0))\n",
    "# balance check\n",
    "#print(c.get_group(1).count(0))"
   ]
  },
  {
   "cell_type": "code",
   "execution_count": 120,
   "metadata": {},
   "outputs": [
    {
     "data": {
      "text/plain": [
       "<function matplotlib.pyplot.show(*args, **kw)>"
      ]
     },
     "execution_count": 120,
     "metadata": {},
     "output_type": "execute_result"
    },
    {
     "data": {
      "image/png": "[encoded data removed]",
      "text/plain": [
       "<Figure size 432x288 with 1 Axes>"
      ]
     },
     "metadata": {
      "needs_background": "light"
     },
     "output_type": "display_data"
    }
   ],
   "source": [
    "# Night driving visualisation\n",
    "womenNight = d.get_group(0).count(0).Gender\n",
    "menNight = d.get_group(1).count(0).Gender\n",
    "womenNight\n",
    "menNight\n",
    "womenNightplot = plt.bar(womenNight, womenNight, label=\"women\")\n",
    "menNightPLot = plt.bar(menNight, menNight, label=\"men\")\n",
    "plt.title(\"Driving at night men vs women\")\n",
    "plt.legend()\n",
    "plt.show"
   ]
  },
  {
   "cell_type": "markdown",
   "metadata": {},
   "source": [
    "### Driving in the rain and gender"
   ]
  },
  {
   "cell_type": "code",
   "execution_count": 121,
   "metadata": {},
   "outputs": [
    {
     "name": "stdout",
     "output_type": "stream",
     "text": [
      "    Age  Gender  Alcohol consumed  Fatigued  Time of Day  Raining\n",
      "17   71       1                 0         0            0        1\n",
      "20   22       1                 1         1            1        1\n",
      "21   63       1                 1         0            0        1\n",
      "23   19       1                 1         0            0        1\n",
      "27   40       1                 0         0            1        1\n",
      "32   46       1                 0         0            1        1\n",
      "36   59       1                 1         0            1        1\n",
      "41   44       1                 1         0            1        1\n",
      "42   23       1                 1         0            0        1\n",
      "52   19       1                 1         1            1        1\n",
      "55   62       1                 0         0            0        1\n",
      "65   20       1                 1         0            1        1\n",
      "74   24       1                 0         0            0        1\n",
      "76   53       1                 0         0            0        1\n",
      "80   49       1                 0         0            1        1\n",
      "89   61       1                 0         0            0        1\n",
      "95   27       1                 0         0            1        1\n",
      "99   67       1                 0         0            1        1\n",
      "Age                 18\n",
      "Gender              18\n",
      "Alcohol consumed    18\n",
      "Fatigued            18\n",
      "Time of Day         18\n",
      "Raining             18\n",
      "dtype: int64\n"
     ]
    }
   ],
   "source": [
    "# group the data so as to display the ammount of male drivers in the rain\n",
    "h = df1.groupby(\"Raining\")\n",
    "i = h.get_group(1).groupby(\"Gender\")\n",
    "print(i.get_group(1))\n",
    "print(i.get_group(1).count(0))\n",
    "# balance check\n",
    "#print(h.get_group(1).count(0))"
   ]
  },
  {
   "cell_type": "code",
   "execution_count": 122,
   "metadata": {},
   "outputs": [
    {
     "name": "stdout",
     "output_type": "stream",
     "text": [
      "    Age  Gender  Alcohol consumed  Fatigued  Time of Day  Raining\n",
      "9    66       0                 0         0            0        1\n",
      "13   54       0                 1         0            0        1\n",
      "28   25       0                 1         1            0        1\n",
      "37   52       0                 0         0            0        1\n",
      "38   25       0                 0         1            0        1\n",
      "44   69       0                 1         0            1        1\n",
      "45   58       0                 1         0            0        1\n",
      "46   59       0                 1         0            0        1\n",
      "48   55       0                 1         0            0        1\n",
      "51   32       0                 1         0            1        1\n",
      "58   62       0                 0         0            0        1\n",
      "59   66       0                 0         0            0        1\n",
      "69   56       0                 0         0            1        1\n",
      "88   59       0                 1         0            0        1\n",
      "91   47       0                 1         1            1        1\n",
      "93   54       0                 1         0            1        1\n",
      "98   36       0                 0         0            1        1\n",
      "Age                 17\n",
      "Gender              17\n",
      "Alcohol consumed    17\n",
      "Fatigued            17\n",
      "Time of Day         17\n",
      "Raining             17\n",
      "dtype: int64\n"
     ]
    }
   ],
   "source": [
    "# group the data so as to display the ammount of female drivers in the rain\n",
    "h = df1.groupby(\"Raining\")\n",
    "i = h.get_group(1).groupby(\"Gender\")\n",
    "print(i.get_group(0))\n",
    "print(i.get_group(0).count(0))\n",
    "# balance check\n",
    "#print(h.get_group(1).count(0))"
   ]
  },
  {
   "cell_type": "code",
   "execution_count": 123,
   "metadata": {},
   "outputs": [
    {
     "data": {
      "text/plain": [
       "<function matplotlib.pyplot.show(*args, **kw)>"
      ]
     },
     "execution_count": 123,
     "metadata": {},
     "output_type": "execute_result"
    },
    {
     "data": {
      "image/png": "[encoded data removed]",
      "text/plain": [
       "<Figure size 432x288 with 1 Axes>"
      ]
     },
     "metadata": {
      "needs_background": "light"
     },
     "output_type": "display_data"
    }
   ],
   "source": [
    "# driving in the rain visualisation\n",
    "womenRain = i.get_group(0).count(0).Gender\n",
    "menRain = i.get_group(1).count(0).Gender\n",
    "womenRainplot = plt.bar(womenRain, 17, label=\"women\")\n",
    "menRainPLot = plt.bar(menRain, 18, label=\"men\")\n",
    "plt.title(\"Driving in the rain men vs women\")\n",
    "plt.legend()\n",
    "plt.show"
   ]
  },
  {
   "cell_type": "markdown",
   "metadata": {},
   "source": [
    "### All true feature values and gender"
   ]
  },
  {
   "cell_type": "code",
   "execution_count": 124,
   "metadata": {},
   "outputs": [
    {
     "data": {
      "image/png": "[encoded data removed]",
      "text/plain": [
       "<Figure size 432x288 with 1 Axes>"
      ]
     },
     "metadata": {
      "needs_background": "light"
     },
     "output_type": "display_data"
    }
   ],
   "source": [
    "# visualisation of all data with 1 vals\n",
    "totAlc = a.get_group(1).count(0).Gender\n",
    "totFat = g.get_group(1).count(0).Gender\n",
    "totNight = c.get_group(1).count(0).Gender\n",
    "totRain = h.get_group(1).count(0).Gender\n",
    "plt.bar(totAlc, totAlc, label=\"Alcohol\")\n",
    "plt.bar(totFat, totFat, label=\"Fatigued\")\n",
    "plt.bar(totNight, totNight, label=\"Night\")\n",
    "plt.bar(totRain, totRain, label=\"Rain\")\n",
    "plt.title(\"Graph of all features in confirmed conditions\")\n",
    "plt.legend()\n",
    "plt.show()"
   ]
  },
  {
   "cell_type": "markdown",
   "metadata": {},
   "source": [
    "## Section 3 - Testing and determination of best suited ML model\n",
    "In this section the model selection process takes place. The data is prepared for use in the correct model and a test is run to determine the best suited ML algorithm for the case. "
   ]
  },
  {
   "cell_type": "code",
   "execution_count": 125,
   "metadata": {},
   "outputs": [
    {
     "data": {
      "text/plain": [
       "(100,)"
      ]
     },
     "execution_count": 125,
     "metadata": {},
     "output_type": "execute_result"
    }
   ],
   "source": [
    "# convert the dataframe to a numpy array for manipulation\n",
    "x = df1.to_numpy()\n",
    "y1 = df2.to_numpy()\n",
    "# flatten the array to 1D\n",
    "y = y1.flatten()\n",
    "# print the shape of the array to verify changes\n",
    "y.shape"
   ]
  },
  {
   "cell_type": "code",
   "execution_count": 126,
   "metadata": {},
   "outputs": [],
   "source": [
    "#select the best suited ML algorithm for the problem\n",
    "# a list of candidate algorithms\n",
    "algList = [\"SVC\", \"Logistic Regression\", \"K-Nearest Neighbours\", \"random Forest\"]\n",
    "# a list to store the candidate algorithms' accuracy scores\n",
    "accuracyList = []"
   ]
  },
  {
   "cell_type": "code",
   "execution_count": 127,
   "metadata": {},
   "outputs": [],
   "source": [
    "# assign the data to the test and train variables to be used in the training of the model\n",
    "x_train, x_test, y_train, y_test = train_test_split(x, y, test_size = 0.1)# split in a 90% train 10% test ratio"
   ]
  },
  {
   "cell_type": "code",
   "execution_count": 128,
   "metadata": {},
   "outputs": [],
   "source": [
    "# testing for the best suited ML algorithm\n",
    "# create a dictionary containing the different algorithms and specified paramaters\n",
    "modelParams = {\n",
    "    \"svm\":{\n",
    "        \"model\": svm.SVC(gamma=\"auto\"),\n",
    "        \"params\":{\n",
    "            \"C\":[1, 10, 20],\n",
    "            \"kernel\":[\"rbf\", \"linear\"]\n",
    "        }\n",
    "    },\n",
    "    \"random_forest\":{\n",
    "        \"model\": RandomForestClassifier(),\n",
    "        \"params\":{\n",
    "            \"n_estimators\":[1, 5, 10]\n",
    "        }\n",
    "    },\n",
    "    \"logistic regression\":{\n",
    "        \"model\": LogisticRegression(solver=\"liblinear\", multi_class=\"auto\"),\n",
    "        \"params\":{\n",
    "            \"C\":[1, 5, 10]\n",
    "        }\n",
    "    },\n",
    "    \"k-nearest_neighbour\":{\n",
    "        \"model\":KNeighborsClassifier(),\n",
    "        \"params\":{\n",
    "            \"leaf_size\":[30, 45]\n",
    "        }\n",
    "    }\n",
    "}"
   ]
  },
  {
   "cell_type": "code",
   "execution_count": 129,
   "metadata": {},
   "outputs": [],
   "source": [
    "# create a for loop that collects the accuracy scores from the models being tested from the dictionary\n",
    "for model_name, mp in modelParams.items():\n",
    "    clf = GridSearchCV(mp[\"model\"], mp[\"params\"], cv=5, return_train_score=False)\n",
    "    clf.fit(x_train, y_train)\n",
    "    accuracyList.append({\n",
    "        \"model\":model_name,\n",
    "        \"best_score\":clf.best_score_,\n",
    "        \"best_params\":clf.best_params_\n",
    "    })"
   ]
  },
  {
   "cell_type": "code",
   "execution_count": 130,
   "metadata": {},
   "outputs": [
    {
     "data": {
      "text/html": [
       "<div>\n",
       "<style scoped>\n",
       "    .dataframe tbody tr th:only-of-type {\n",
       "        vertical-align: middle;\n",
       "    }\n",
       "\n",
       "    .dataframe tbody tr th {\n",
       "        vertical-align: top;\n",
       "    }\n",
       "\n",
       "    .dataframe thead th {\n",
       "        text-align: right;\n",
       "    }\n",
       "</style>\n",
       "<table border=\"1\" class=\"dataframe\">\n",
       "  <thead>\n",
       "    <tr style=\"text-align: right;\">\n",
       "      <th></th>\n",
       "      <th>model</th>\n",
       "      <th>best_score</th>\n",
       "      <th>best_params</th>\n",
       "    </tr>\n",
       "  </thead>\n",
       "  <tbody>\n",
       "    <tr>\n",
       "      <th>0</th>\n",
       "      <td>svm</td>\n",
       "      <td>0.855556</td>\n",
       "      <td>{'C': 10, 'kernel': 'linear'}</td>\n",
       "    </tr>\n",
       "    <tr>\n",
       "      <th>1</th>\n",
       "      <td>random_forest</td>\n",
       "      <td>0.877778</td>\n",
       "      <td>{'n_estimators': 5}</td>\n",
       "    </tr>\n",
       "    <tr>\n",
       "      <th>2</th>\n",
       "      <td>logistic regression</td>\n",
       "      <td>0.855556</td>\n",
       "      <td>{'C': 1}</td>\n",
       "    </tr>\n",
       "    <tr>\n",
       "      <th>3</th>\n",
       "      <td>k-nearest_neighbour</td>\n",
       "      <td>0.833333</td>\n",
       "      <td>{'leaf_size': 30}</td>\n",
       "    </tr>\n",
       "  </tbody>\n",
       "</table>\n",
       "</div>"
      ],
      "text/plain": [
       "                 model  best_score                    best_params\n",
       "0                  svm    0.855556  {'C': 10, 'kernel': 'linear'}\n",
       "1        random_forest    0.877778            {'n_estimators': 5}\n",
       "2  logistic regression    0.855556                       {'C': 1}\n",
       "3  k-nearest_neighbour    0.833333              {'leaf_size': 30}"
      ]
     },
     "execution_count": 130,
     "metadata": {},
     "output_type": "execute_result"
    }
   ],
   "source": [
    "# convert the results from the testing to a dataframe for visualisation\n",
    "# determine the best suited model for the problem\n",
    "accFrame = pd.DataFrame(accuracyList, columns=[\"model\", \"best_score\", \"best_params\"])\n",
    "accFrame.head(4)"
   ]
  },
  {
   "cell_type": "markdown",
   "metadata": {},
   "source": [
    "## Section 4 - Model implementation and tuning\n",
    "In this section the best suited model has been determined and is implemented. The data is fed to the model and the training process takes place. After training and testing , cross validation is done on the model to determine the best parameters for optimal performance. The prediction results are displayed in both binary and probabilistic formats for analysis. "
   ]
  },
  {
   "cell_type": "code",
   "execution_count": 131,
   "metadata": {},
   "outputs": [
    {
     "data": {
      "text/plain": [
       "SVC(probability=True)"
      ]
     },
     "execution_count": 131,
     "metadata": {},
     "output_type": "execute_result"
    }
   ],
   "source": [
    "# instantiate the svc model as it was best suited for the situational data\n",
    "model = svm.SVC(probability=True)# probability is True to enable the display of probabilistic values\n",
    "# fit the model with the x and y training data\n",
    "model.fit(x_train, y_train)"
   ]
  },
  {
   "cell_type": "code",
   "execution_count": 132,
   "metadata": {},
   "outputs": [
    {
     "name": "stdout",
     "output_type": "stream",
     "text": [
      "Prediction: [0 0 0 0 0 0 0 0 0 0]\n",
      "y-values: [0 0 0 0 0 0 1 0 0 0]\n",
      "Model accuracy: 0.8444444444444444\n"
     ]
    }
   ],
   "source": [
    "# use the x test values to predict the y test values\n",
    "print(\"Prediction:\",model.predict(x_test))\n",
    "# show the y test values to compare accuracy\n",
    "print(\"y-values:\",y_test)\n",
    "# show the accuracy score of the prediction\n",
    "print(\"Model accuracy:\",model.score(x_train, y_train))"
   ]
  },
  {
   "cell_type": "code",
   "execution_count": 133,
   "metadata": {},
   "outputs": [],
   "source": [
    "# create the cross validation structure\n",
    "gridSCV = GridSearchCV(svm.SVC(gamma=\"auto\"),{\n",
    "    \"C\":[1, 10, 20],\n",
    "    \"kernel\":[\"rbf\", \"linear\"]},  \n",
    "     cv = 5, \n",
    "     return_train_score = False)"
   ]
  },
  {
   "cell_type": "code",
   "execution_count": 134,
   "metadata": {},
   "outputs": [
    {
     "data": {
      "text/html": [
       "<div>\n",
       "<style scoped>\n",
       "    .dataframe tbody tr th:only-of-type {\n",
       "        vertical-align: middle;\n",
       "    }\n",
       "\n",
       "    .dataframe tbody tr th {\n",
       "        vertical-align: top;\n",
       "    }\n",
       "\n",
       "    .dataframe thead th {\n",
       "        text-align: right;\n",
       "    }\n",
       "</style>\n",
       "<table border=\"1\" class=\"dataframe\">\n",
       "  <thead>\n",
       "    <tr style=\"text-align: right;\">\n",
       "      <th></th>\n",
       "      <th>param_C</th>\n",
       "      <th>param_kernel</th>\n",
       "      <th>mean_test_score</th>\n",
       "    </tr>\n",
       "  </thead>\n",
       "  <tbody>\n",
       "    <tr>\n",
       "      <th>0</th>\n",
       "      <td>1</td>\n",
       "      <td>rbf</td>\n",
       "      <td>0.833333</td>\n",
       "    </tr>\n",
       "    <tr>\n",
       "      <th>1</th>\n",
       "      <td>1</td>\n",
       "      <td>linear</td>\n",
       "      <td>0.844444</td>\n",
       "    </tr>\n",
       "    <tr>\n",
       "      <th>2</th>\n",
       "      <td>10</td>\n",
       "      <td>rbf</td>\n",
       "      <td>0.800000</td>\n",
       "    </tr>\n",
       "    <tr>\n",
       "      <th>3</th>\n",
       "      <td>10</td>\n",
       "      <td>linear</td>\n",
       "      <td>0.855556</td>\n",
       "    </tr>\n",
       "    <tr>\n",
       "      <th>4</th>\n",
       "      <td>20</td>\n",
       "      <td>rbf</td>\n",
       "      <td>0.800000</td>\n",
       "    </tr>\n",
       "    <tr>\n",
       "      <th>5</th>\n",
       "      <td>20</td>\n",
       "      <td>linear</td>\n",
       "      <td>0.855556</td>\n",
       "    </tr>\n",
       "  </tbody>\n",
       "</table>\n",
       "</div>"
      ],
      "text/plain": [
       "  param_C param_kernel  mean_test_score\n",
       "0       1          rbf         0.833333\n",
       "1       1       linear         0.844444\n",
       "2      10          rbf         0.800000\n",
       "3      10       linear         0.855556\n",
       "4      20          rbf         0.800000\n",
       "5      20       linear         0.855556"
      ]
     },
     "execution_count": 134,
     "metadata": {},
     "output_type": "execute_result"
    }
   ],
   "source": [
    "# fit the data for validation\n",
    "gridSCV.fit(x_train, y_train)\n",
    "gridSCV.cv_results_\n",
    "# convert the results to a dataframe for optimal analysis\n",
    "dfG = pd.DataFrame(gridSCV.cv_results_)\n",
    "# select and display the columns of interest\n",
    "dfG[[\"param_C\",\"param_kernel\",\"mean_test_score\"]]"
   ]
  },
  {
   "cell_type": "code",
   "execution_count": 135,
   "metadata": {},
   "outputs": [
    {
     "data": {
      "text/plain": [
       "{'C': 10, 'kernel': 'linear'}"
      ]
     },
     "execution_count": 135,
     "metadata": {},
     "output_type": "execute_result"
    }
   ],
   "source": [
    "# display the best suited paramaters for the model\n",
    "bp = gridSCV.best_params_\n",
    "bp"
   ]
  },
  {
   "cell_type": "code",
   "execution_count": 136,
   "metadata": {},
   "outputs": [],
   "source": [
    "# appy the best suited arguments to the SVC model\n",
    "model = svm.SVC(probability=True, C=bp[\"C\"], kernel=bp[\"kernel\"])"
   ]
  },
  {
   "cell_type": "code",
   "execution_count": 137,
   "metadata": {},
   "outputs": [
    {
     "name": "stdout",
     "output_type": "stream",
     "text": [
      "[0 0 0 0 0 0 1 0 0 1]\n",
      "0.8777777777777778\n"
     ]
    }
   ],
   "source": [
    "# test the new parameters to see if there is an improvement in accuracy\n",
    "model.fit(x_train, y_train)\n",
    "print(model.predict(x_test))\n",
    "print(model.score(x_train, y_train))"
   ]
  },
  {
   "cell_type": "code",
   "execution_count": 138,
   "metadata": {},
   "outputs": [
    {
     "data": {
      "text/plain": [
       "array([[0.82673913, 0.17326087],\n",
       "       [0.82667049, 0.17332951],\n",
       "       [0.866151  , 0.133849  ],\n",
       "       [0.84741395, 0.15258605],\n",
       "       [0.86620621, 0.13379379],\n",
       "       [0.82670999, 0.17329001],\n",
       "       [0.75113302, 0.24886698],\n",
       "       [0.82668969, 0.17331031],\n",
       "       [0.82671831, 0.17328169],\n",
       "       [0.77854747, 0.22145253]])"
      ]
     },
     "execution_count": 138,
     "metadata": {},
     "output_type": "execute_result"
    }
   ],
   "source": [
    "# predict the probability of the above predicted results\n",
    "t = model.predict_proba(x_test)\n",
    "t"
   ]
  },
  {
   "cell_type": "code",
   "execution_count": 139,
   "metadata": {},
   "outputs": [
    {
     "name": "stdout",
     "output_type": "stream",
     "text": [
      "82.67391320471057\n",
      "82.66704938851068\n",
      "86.61510046478988\n",
      "84.7413949296503\n",
      "86.62062131081439\n",
      "82.670999030592\n",
      "75.11330173581445\n",
      "82.66896929558206\n",
      "82.67183117768727\n",
      "77.85474654395422\n"
     ]
    }
   ],
   "source": [
    "# a conditional statement that returns the probability of the predicted results\n",
    "for line in t:\n",
    "    if line[0] > line[1]:\n",
    "        print(line[0]*100)\n",
    "    elif line[0] < line[1]:\n",
    "        print(line[1]*100)"
   ]
  },
  {
   "cell_type": "markdown",
   "metadata": {},
   "source": [
    "## Section 5 - Pickling the model\n",
    "In this section the trained and tuned algorithm is pickled into a file for use on other datasets. The file has both been written and read in binary form. The file has been read to provide a practical example for use."
   ]
  },
  {
   "cell_type": "code",
   "execution_count": 140,
   "metadata": {},
   "outputs": [],
   "source": [
    "# dump the model into a pickle file for use\n",
    "with open(\"Model_Pickle\",\"wb\") as f:\n",
    "    pickle.dump(model,f)"
   ]
  },
  {
   "cell_type": "code",
   "execution_count": 141,
   "metadata": {},
   "outputs": [],
   "source": [
    "# reload the model under a new alias for further use and example\n",
    "with open(\"Model_Pickle\",\"rb\") as d:\n",
    "    mp = pickle.load(d)"
   ]
  }
 ],
 "metadata": {
  "kernelspec": {
   "display_name": "Python 3",
   "language": "python",
   "name": "python3"
  },
  "language_info": {
   "codemirror_mode": {
    "name": "ipython",
    "version": 3
   },
   "file_extension": ".py",
   "mimetype": "text/x-python",
   "name": "python",
   "nbconvert_exporter": "python",
   "pygments_lexer": "ipython3",
   "version": "3.8.3"
  }
 },
 "nbformat": 4,
 "nbformat_minor": 4
}
